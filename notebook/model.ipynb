{
 "cells": [
  {
   "cell_type": "code",
   "execution_count": 146,
   "id": "51bb8d76-07d7-4f4e-8987-336db876bd4e",
   "metadata": {},
   "outputs": [
    {
     "name": "stdout",
     "output_type": "stream",
     "text": [
      "Accuracy: 0.6044444444444445\n"
     ]
    }
   ],
   "source": [
    "import pandas as pd\n",
    "from sklearn.model_selection import train_test_split\n",
    "from sklearn.feature_extraction.text import TfidfVectorizer\n",
    "from sklearn.svm import SVC\n",
    "from sklearn.pipeline import Pipeline\n",
    "from sklearn.preprocessing import StandardScaler\n",
    "from sklearn.metrics import accuracy_score\n",
    "\n",
    "\n",
    "# joke_dataset = pd.read_csv(r'C:\\Users\\ameyd\\Desktop\\IIITD\\SEM 5\\ML\\Project\\notebook\\processed_15.csv')\n",
    "# X = joke_dataset['Lemmatized Text']\n",
    "# y = joke_dataset['Joke Number']\n",
    "\n",
    "\n",
    "joke_dataset = pd.read_csv(r'processed_chayan_regression.csv')\n",
    "X = joke_dataset['Text']\n",
    "y = joke_dataset['Joke Number']\n",
    "\n",
    "# Split the data into training and testing sets\n",
    "X_train, X_test, y_train, y_test = train_test_split(X, y, test_size=0.2, random_state=42)\n",
    "\n",
    "# Create a pipeline with TF-IDF vectorizer and Linear SVM\n",
    "model = Pipeline([\n",
    "    ('tfidf', TfidfVectorizer(ngram_range=(1, 3))),\n",
    "    ('classifier', SVC(kernel='rbf'))\n",
    "])\n",
    "\n",
    "# Train the model\n",
    "model.fit(X_train, y_train)\n",
    "\n",
    "# Make predictions\n",
    "y_pred = model.predict(X_test)\n",
    "\n",
    "# Evaluate the model\n",
    "accuracy = accuracy_score(y_test, y_pred)\n",
    "print(\"Accuracy:\", accuracy)"
   ]
  },
  {
   "cell_type": "code",
   "execution_count": 98,
   "id": "d15ba429-5299-497c-b20a-3ee71320acad",
   "metadata": {},
   "outputs": [],
   "source": [
    "import pandas as pd\n",
    "\n",
    "# Read processed_12.csv\n",
    "processed_file_path = 'processed_chayan.csv'  # Replace with the actual path\n",
    "processed_df = pd.read_csv(processed_file_path)\n",
    "\n",
    "# Read ratings.csv\n",
    "ratings_file_path = r'C:\\Users\\ameyd\\Desktop\\IIITD\\SEM 5\\ML\\Project\\dataset\\ratings.csv'\n",
    "ratings_df = pd.read_csv(ratings_file_path)\n",
    "\n",
    "# Merge the DataFrames based on the common column (JokeId and Joke Number)\n",
    "merged_df = pd.merge(ratings_df, processed_df, left_on='Joke Number', right_on='Joke Number', how='inner')\n",
    "\n",
    "# Create a new DataFrame with desired columns\n",
    "result_df = merged_df[['Joke Number', 'Text', 'Average Rating']]\n",
    "\n",
    "# Save the result to a new CSV file\n",
    "result_file_path = 'output_path.csv'  # Replace with the desired output path\n",
    "result_df.to_csv(result_file_path, index=False)"
   ]
  },
  {
   "cell_type": "markdown",
   "id": "db32acf9-164b-4e64-8410-04a4773489f1",
   "metadata": {},
   "source": [
    "# EVALUATION"
   ]
  },
  {
   "cell_type": "code",
   "execution_count": 102,
   "id": "c8cf02dc-b4b0-4bed-a7e8-80e3a18f40f7",
   "metadata": {},
   "outputs": [],
   "source": [
    "y_pred_joke_numbers = [50, 50, 27, 51, 51, 60, 51, 66, 50, 51, 43, 50, 66, 66, 63, 66, 66, 66, 63, 63, 23, 61, 51, 12, 51, 43, 51, 51, 51, 42, 43, 63, 66, 87, 51, 51, 50, 57, 51, 51, 50, 75, 50, 51, 51, 81, 43, 27, 50, 51]\n"
   ]
  },
  {
   "cell_type": "code",
   "execution_count": 104,
   "id": "256b081d-d165-48b9-9a0f-795abde796fd",
   "metadata": {},
   "outputs": [
    {
     "data": {
      "text/plain": [
       "50"
      ]
     },
     "execution_count": 104,
     "metadata": {},
     "output_type": "execute_result"
    }
   ],
   "source": [
    "len(y_pred_joke_numbers)"
   ]
  },
  {
   "cell_type": "code",
   "execution_count": 108,
   "id": "1298a182-e525-4099-b547-6f2ff0ec741b",
   "metadata": {},
   "outputs": [],
   "source": [
    "test_rating = pd.read_csv(r'C:\\Users\\ameyd\\Desktop\\IIITD\\SEM 5\\ML\\Project\\dataset\\test_rating.csv')\n",
    "train_rating = pd.read_csv(r'C:\\Users\\ameyd\\Desktop\\IIITD\\SEM 5\\ML\\Project\\dataset\\ratings.csv')"
   ]
  },
  {
   "cell_type": "code",
   "execution_count": 116,
   "id": "4d5f7c11-affa-466d-b8f4-7f31fddc753b",
   "metadata": {},
   "outputs": [],
   "source": [
    "predicted_ratings = [train_rating.loc[train_rating['Joke Number'] == joke_number, 'Average Rating'].values[0]\n",
    "                     for joke_number in y_pred_joke_numbers]\n",
    "actual_ratings = test_rating['Average Rating'].tolist()"
   ]
  },
  {
   "cell_type": "code",
   "execution_count": 132,
   "id": "dd263ecb-cc39-47b1-889f-d69d67a4a7ec",
   "metadata": {},
   "outputs": [
    {
     "name": "stdout",
     "output_type": "stream",
     "text": [
      "R-squared (R²) Score: -0.0025779728496524434\n"
     ]
    }
   ],
   "source": [
    "from sklearn.metrics import r2_score\n",
    "\n",
    "faux = [2 for i in range(50)]\n",
    "\n",
    "r2 = r2_score(actual_ratings, faux)\n",
    "\n",
    "print(f'R-squared (R²) Score: {r2}')"
   ]
  },
  {
   "cell_type": "code",
   "execution_count": 133,
   "id": "8830a423-009f-40b4-b487-ae51c464c544",
   "metadata": {},
   "outputs": [],
   "source": [
    "# for i in range(50):\n",
    "#     print(f\"actual : {actual_ratings[i]:.2f} , predicted : {predicted_ratings[i]:.2f}\")"
   ]
  },
  {
   "cell_type": "code",
   "execution_count": 141,
   "id": "32e6677a-2917-44af-88a8-c0a1786ebef9",
   "metadata": {},
   "outputs": [
    {
     "name": "stdout",
     "output_type": "stream",
     "text": [
      "Unique Joke Numbers and their Frequency:\n",
      "50     33\n",
      "43     27\n",
      "51     25\n",
      "89     21\n",
      "92     21\n",
      "27     21\n",
      "23     20\n",
      "66     20\n",
      "67     20\n",
      "63     19\n",
      "59     18\n",
      "94     18\n",
      "7      16\n",
      "75     16\n",
      "61     16\n",
      "64     15\n",
      "57     15\n",
      "60     15\n",
      "99     15\n",
      "90     15\n",
      "30     14\n",
      "71     14\n",
      "53     14\n",
      "87     13\n",
      "83     13\n",
      "5      13\n",
      "81     13\n",
      "22     12\n",
      "20     11\n",
      "47     10\n",
      "42     10\n",
      "93     10\n",
      "98     10\n",
      "70     10\n",
      "45     10\n",
      "52     10\n",
      "80     10\n",
      "11     10\n",
      "31     10\n",
      "38      9\n",
      "29      9\n",
      "88      9\n",
      "32      9\n",
      "13      8\n",
      "21      8\n",
      "97      7\n",
      "44      7\n",
      "41      7\n",
      "26      7\n",
      "65      6\n",
      "56      5\n",
      "39      5\n",
      "12      5\n",
      "72      5\n",
      "95      4\n",
      "69      4\n",
      "82      4\n",
      "84      4\n",
      "1       4\n",
      "33      4\n",
      "3       4\n",
      "16      4\n",
      "46      4\n",
      "19      4\n",
      "34      4\n",
      "73      3\n",
      "4       3\n",
      "86      3\n",
      "85      3\n",
      "24      3\n",
      "78      3\n",
      "74      3\n",
      "100     3\n",
      "49      3\n",
      "35      2\n",
      "9       2\n",
      "14      2\n",
      "91      2\n",
      "15      2\n",
      "2       2\n",
      "17      2\n",
      "36      2\n",
      "48      2\n",
      "96      2\n",
      "40      2\n",
      "25      2\n",
      "28      2\n",
      "55      2\n",
      "79      2\n",
      "6       2\n",
      "62      2\n",
      "8       2\n",
      "54      1\n",
      "18      1\n",
      "10      1\n",
      "68      1\n",
      "37      1\n",
      "77      1\n",
      "76      1\n",
      "58      1\n",
      "Name: JokeId, dtype: int64\n"
     ]
    }
   ],
   "source": [
    "df = pd.read_csv(r'processed_15.csv')\n",
    "pd.set_option('display.max_rows', None)\n",
    "\n",
    "unique_joke_numbers = df['JokeId'].value_counts()\n",
    "\n",
    "# Print the result\n",
    "print(\"Unique Joke Numbers and their Frequency:\")\n",
    "print(unique_joke_numbers)"
   ]
  },
  {
   "cell_type": "code",
   "execution_count": 143,
   "id": "cff8f0ba-1bf5-4aab-a800-dcc57225eb62",
   "metadata": {},
   "outputs": [
    {
     "name": "stdout",
     "output_type": "stream",
     "text": [
      "Unique Elements: [50, 27, 51, 60, 66, 43, 63, 23, 61, 12, 42, 87, 57, 75, 81]\n",
      "Frequencies: [8, 2, 16, 1, 7, 4, 4, 1, 1, 1, 1, 1, 1, 1, 1]\n"
     ]
    }
   ],
   "source": [
    "from collections import Counter\n",
    "\n",
    "counter = Counter(y_pred_joke_numbers)\n",
    "\n",
    "# Extract unique elements and their frequencies\n",
    "unique_elements = list(counter.keys())\n",
    "frequencies = list(counter.values())\n",
    "\n",
    "# Print the result\n",
    "print(\"Unique Elements:\", unique_elements)\n",
    "print(\"Frequencies:\", frequencies)\n"
   ]
  }
 ],
 "metadata": {
  "kernelspec": {
   "display_name": "Python 3 (ipykernel)",
   "language": "python",
   "name": "python3"
  },
  "language_info": {
   "codemirror_mode": {
    "name": "ipython",
    "version": 3
   },
   "file_extension": ".py",
   "mimetype": "text/x-python",
   "name": "python",
   "nbconvert_exporter": "python",
   "pygments_lexer": "ipython3",
   "version": "3.11.3"
  }
 },
 "nbformat": 4,
 "nbformat_minor": 5
}
